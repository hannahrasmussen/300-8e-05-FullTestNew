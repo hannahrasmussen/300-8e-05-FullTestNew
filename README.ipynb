{
 "cells": [
  {
   "cell_type": "markdown",
   "id": "cd6229d6",
   "metadata": {},
   "source": [
    "## README for results file of sterile neutrino model with $m_s = 300$ MeV and $\\theta = 8 \\times 10^{-5}$"
   ]
  },
  {
   "cell_type": "markdown",
   "id": "bf41aeb1",
   "metadata": {},
   "source": [
    "* The full-n-type_of_file.npy files are from RunBasicCode...\n",
    "* The f.mp4, df.mp4, TTcm.mp4, n2p.mp4, and movie-arrays.npz files should all be from PostProcessing, but currently PostProcessing isn't designed to read files like this, so we should remake this data in VarCode so that it is all contained neatly in a .npz file"
   ]
  },
  {
   "cell_type": "code",
   "execution_count": null,
   "id": "6ff5237e",
   "metadata": {},
   "outputs": [],
   "source": []
  }
 ],
 "metadata": {
  "kernelspec": {
   "display_name": "Python 3",
   "language": "python",
   "name": "python3"
  },
  "language_info": {
   "codemirror_mode": {
    "name": "ipython",
    "version": 3
   },
   "file_extension": ".py",
   "mimetype": "text/x-python",
   "name": "python",
   "nbconvert_exporter": "python",
   "pygments_lexer": "ipython3",
   "version": "3.8.8"
  }
 },
 "nbformat": 4,
 "nbformat_minor": 5
}
